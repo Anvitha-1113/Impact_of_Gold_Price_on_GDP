{
 "cells": [
  {
   "cell_type": "code",
   "execution_count": 3,
   "id": "97ebad53",
   "metadata": {},
   "outputs": [],
   "source": [
    "import pandas as pd\n",
    "import numpy as np\n",
    "import matplotlib.pyplot as plt\n",
    "import seaborn as sns\n",
    "from sklearn.preprocessing import MinMaxScaler, StandardScaler\n",
    "from scipy import stats"
   ]
  },
  {
   "cell_type": "code",
   "execution_count": 4,
   "id": "490b71a1",
   "metadata": {},
   "outputs": [],
   "source": [
    "data=pd.read_excel(\"Gold.xlsx\")"
   ]
  },
  {
   "cell_type": "code",
   "execution_count": 5,
   "id": "ddd25b96",
   "metadata": {},
   "outputs": [],
   "source": [
    "df=pd.DataFrame(data)"
   ]
  },
  {
   "cell_type": "code",
   "execution_count": 6,
   "id": "68db5bbf",
   "metadata": {},
   "outputs": [
    {
     "data": {
      "text/html": [
       "<div>\n",
       "<style scoped>\n",
       "    .dataframe tbody tr th:only-of-type {\n",
       "        vertical-align: middle;\n",
       "    }\n",
       "\n",
       "    .dataframe tbody tr th {\n",
       "        vertical-align: top;\n",
       "    }\n",
       "\n",
       "    .dataframe thead th {\n",
       "        text-align: right;\n",
       "    }\n",
       "</style>\n",
       "<table border=\"1\" class=\"dataframe\">\n",
       "  <thead>\n",
       "    <tr style=\"text-align: right;\">\n",
       "      <th></th>\n",
       "      <th>Year</th>\n",
       "      <th>Gold Price (10g)</th>\n",
       "      <th>Rate of Change (%)</th>\n",
       "      <th>Imports value</th>\n",
       "      <th>Exports Value</th>\n",
       "      <th>Imports Percentage (%)</th>\n",
       "      <th>Exports Percentage (%)</th>\n",
       "      <th>Growth Rate (Gold Exports)</th>\n",
       "      <th>GDP</th>\n",
       "      <th>GOLD RESERVES (IN CRORE)</th>\n",
       "      <th>Exchange Rate(USD-INR)</th>\n",
       "      <th>CPI Inflation Rate (%)</th>\n",
       "      <th>Repo Rate (%)</th>\n",
       "      <th>Unemployment Rate (%)</th>\n",
       "    </tr>\n",
       "  </thead>\n",
       "  <tbody>\n",
       "    <tr>\n",
       "      <th>0</th>\n",
       "      <td>1999</td>\n",
       "      <td>4234.0</td>\n",
       "      <td>1.92</td>\n",
       "      <td>3180500</td>\n",
       "      <td>636100</td>\n",
       "      <td>0.90</td>\n",
       "      <td>0.0017</td>\n",
       "      <td>-</td>\n",
       "      <td>6.2</td>\n",
       "      <td>12559</td>\n",
       "      <td>43.060000</td>\n",
       "      <td>4.67</td>\n",
       "      <td>8.00</td>\n",
       "      <td>5.4</td>\n",
       "    </tr>\n",
       "    <tr>\n",
       "      <th>1</th>\n",
       "      <td>2000</td>\n",
       "      <td>4400.0</td>\n",
       "      <td>3.92</td>\n",
       "      <td>3300000</td>\n",
       "      <td>660000</td>\n",
       "      <td>0.91</td>\n",
       "      <td>0.0022</td>\n",
       "      <td>0.0375</td>\n",
       "      <td>4.0</td>\n",
       "      <td>12973</td>\n",
       "      <td>44.948154</td>\n",
       "      <td>4.01</td>\n",
       "      <td>9.00</td>\n",
       "      <td>5.6</td>\n",
       "    </tr>\n",
       "    <tr>\n",
       "      <th>2</th>\n",
       "      <td>2001</td>\n",
       "      <td>4300.0</td>\n",
       "      <td>-2.27</td>\n",
       "      <td>3450000</td>\n",
       "      <td>690000</td>\n",
       "      <td>0.92</td>\n",
       "      <td>0.0026</td>\n",
       "      <td>0.0455</td>\n",
       "      <td>5.2</td>\n",
       "      <td>12711</td>\n",
       "      <td>47.172949</td>\n",
       "      <td>3.78</td>\n",
       "      <td>8.75</td>\n",
       "      <td>5.8</td>\n",
       "    </tr>\n",
       "    <tr>\n",
       "      <th>3</th>\n",
       "      <td>2002</td>\n",
       "      <td>4990.0</td>\n",
       "      <td>16.05</td>\n",
       "      <td>3600000</td>\n",
       "      <td>720000</td>\n",
       "      <td>0.92</td>\n",
       "      <td>0.0025</td>\n",
       "      <td>0.0435</td>\n",
       "      <td>5.4</td>\n",
       "      <td>14868</td>\n",
       "      <td>48.575595</td>\n",
       "      <td>4.30</td>\n",
       "      <td>5.75</td>\n",
       "      <td>5.9</td>\n",
       "    </tr>\n",
       "    <tr>\n",
       "      <th>4</th>\n",
       "      <td>2003</td>\n",
       "      <td>5600.0</td>\n",
       "      <td>12.22</td>\n",
       "      <td>4200000</td>\n",
       "      <td>840000</td>\n",
       "      <td>0.92</td>\n",
       "      <td>0.0025</td>\n",
       "      <td>0.1667</td>\n",
       "      <td>4.0</td>\n",
       "      <td>16785</td>\n",
       "      <td>46.538938</td>\n",
       "      <td>3.81</td>\n",
       "      <td>5.00</td>\n",
       "      <td>5.6</td>\n",
       "    </tr>\n",
       "  </tbody>\n",
       "</table>\n",
       "</div>"
      ],
      "text/plain": [
       "   Year  Gold Price (10g)  Rate of Change (%)  Imports value  Exports Value  \\\n",
       "0  1999            4234.0                1.92        3180500         636100   \n",
       "1  2000            4400.0                3.92        3300000         660000   \n",
       "2  2001            4300.0               -2.27        3450000         690000   \n",
       "3  2002            4990.0               16.05        3600000         720000   \n",
       "4  2003            5600.0               12.22        4200000         840000   \n",
       "\n",
       "   Imports Percentage (%)  Exports Percentage (%) Growth Rate (Gold Exports)  \\\n",
       "0                    0.90                  0.0017                          -   \n",
       "1                    0.91                  0.0022                     0.0375   \n",
       "2                    0.92                  0.0026                     0.0455   \n",
       "3                    0.92                  0.0025                     0.0435   \n",
       "4                    0.92                  0.0025                     0.1667   \n",
       "\n",
       "   GDP  GOLD RESERVES (IN CRORE)  Exchange Rate(USD-INR)   \\\n",
       "0  6.2                     12559                43.060000   \n",
       "1  4.0                     12973                44.948154   \n",
       "2  5.2                     12711                47.172949   \n",
       "3  5.4                     14868                48.575595   \n",
       "4  4.0                     16785                46.538938   \n",
       "\n",
       "   CPI Inflation Rate (%)  Repo Rate (%)  Unemployment Rate (%)  \n",
       "0                    4.67           8.00                    5.4  \n",
       "1                    4.01           9.00                    5.6  \n",
       "2                    3.78           8.75                    5.8  \n",
       "3                    4.30           5.75                    5.9  \n",
       "4                    3.81           5.00                    5.6  "
      ]
     },
     "execution_count": 6,
     "metadata": {},
     "output_type": "execute_result"
    }
   ],
   "source": [
    "df.head()"
   ]
  },
  {
   "cell_type": "code",
   "execution_count": 7,
   "id": "51af8dd5",
   "metadata": {},
   "outputs": [],
   "source": [
    "# Assuming the data contains two sheets: 'Gold Prices' and 'GDP Data'\n",
    "gold_data = df['Gold Price (10g)']\n",
    "gdp_data = df['GDP']\n"
   ]
  },
  {
   "cell_type": "code",
   "execution_count": 8,
   "id": "242af5b6",
   "metadata": {},
   "outputs": [
    {
     "name": "stdout",
     "output_type": "stream",
     "text": [
      "0    4234.0\n",
      "1    4400.0\n",
      "2    4300.0\n",
      "3    4990.0\n",
      "4    5600.0\n",
      "Name: Gold Price (10g), dtype: float64\n",
      "0    6.2\n",
      "1    4.0\n",
      "2    5.2\n",
      "3    5.4\n",
      "4    4.0\n",
      "Name: GDP, dtype: float64\n"
     ]
    }
   ],
   "source": [
    "# Display first few rows of both datasets for inspection\n",
    "print(gold_data.head())\n",
    "print(gdp_data.head())\n"
   ]
  },
  {
   "cell_type": "code",
   "execution_count": 9,
   "id": "8cd9072c",
   "metadata": {},
   "outputs": [],
   "source": [
    "# 1. Data Cleaning\n",
    "## Handling Missing Values\n",
    "# For gold price and GDP data, fill missing values using forward-fill or interpolation\n",
    "gold_data = gold_data.fillna(method='ffill')\n",
    "gdp_data = gdp_data.fillna(method='ffill')\n"
   ]
  },
  {
   "cell_type": "code",
   "execution_count": 10,
   "id": "4220248c",
   "metadata": {},
   "outputs": [],
   "source": [
    "# Drop rows with missing values if any (e.g., if 'ffill' does not work perfectly)\n",
    "gold_data = gold_data.dropna()\n",
    "gdp_data = gdp_data.dropna()"
   ]
  },
  {
   "cell_type": "code",
   "execution_count": 11,
   "id": "3ed34a01",
   "metadata": {},
   "outputs": [],
   "source": [
    "## Removing Duplicates\n",
    "gold_data = gold_data.drop_duplicates()\n",
    "gdp_data = gdp_data.drop_duplicates()"
   ]
  },
  {
   "cell_type": "code",
   "execution_count": 12,
   "id": "6d23a0e8",
   "metadata": {},
   "outputs": [],
   "source": [
    "# 2. Data Transformation\n",
    "\n",
    "# Convert date column to datetime (if it exists)\n",
    "if 'date' in data.columns:\n",
    "    data['date'] = pd.to_datetime(data['date'])\n",
    "    data.set_index('date', inplace=True)"
   ]
  },
  {
   "cell_type": "code",
   "execution_count": 13,
   "id": "f0c01b87",
   "metadata": {},
   "outputs": [],
   "source": [
    "# Feature Engineering: Create gold price percentage change\n",
    "data['gold_price_pct_change'] = data['Gold Price (10g)'].pct_change() * 100  # Percentage change\n",
    "data['GDP_growth'] = data['GDP'].pct_change() * 100  # GDP growth"
   ]
  },
  {
   "cell_type": "code",
   "execution_count": 14,
   "id": "c9612217",
   "metadata": {},
   "outputs": [],
   "source": [
    "# Dropping rows with NaN values generated by pct_change (first row usually)\n",
    "data.dropna(inplace=True)"
   ]
  },
  {
   "cell_type": "code",
   "execution_count": 15,
   "id": "9eb4899d",
   "metadata": {},
   "outputs": [],
   "source": [
    "# Normalize or scale numerical features\n",
    "scaler = StandardScaler()  # You can also use MinMaxScaler() if preferred\n",
    "outliers=data[['Gold Price (10g)', 'GDP']] = scaler.fit_transform(data[['Gold Price (10g)', 'GDP']])"
   ]
  },
  {
   "cell_type": "code",
   "execution_count": 16,
   "id": "601f33b2",
   "metadata": {},
   "outputs": [
    {
     "name": "stdout",
     "output_type": "stream",
     "text": [
      "    Year  Gold Price (10g)  Rate of Change (%)  Imports value  Exports Value  \\\n",
      "1   2000         -1.193982                3.92        3300000         660000   \n",
      "2   2001         -1.199432               -2.27        3450000         690000   \n",
      "3   2002         -1.161828               16.05        3600000         720000   \n",
      "4   2003         -1.128583               12.22        4200000         840000   \n",
      "5   2004         -1.114958                4.46        4800000         960000   \n",
      "6   2005         -1.052285               19.66        5250000        1050000   \n",
      "7   2007         -0.845188               54.29        6300000        1260000   \n",
      "8   2008         -0.752540               15.74        8100000        1620000   \n",
      "9   2009         -0.643542               16.00        9375000        1875000   \n",
      "10  2010         -0.425546               27.59       10875000        2175000   \n",
      "11  2011          0.004996               42.70       13875000        2775000   \n",
      "12  2012          0.258416               17.61       19800000        3960000   \n",
      "13  2013          0.179392               -4.67       23287500        4657500   \n",
      "14  2014          0.092548               -5.38       22200000        4440000   \n",
      "15  2015          0.001917               -5.94       21004500        4200900   \n",
      "16  2016          0.126174                8.65       19782250        3956450   \n",
      "17  2017          0.183071                3.65       21467250        4293450   \n",
      "18  2018          0.279562                5.97       22250250        4450050   \n",
      "19  2019          0.485677               12.03       23578500        4715700   \n",
      "20  2020          1.217653               38.13       26415000        5283000   \n",
      "21  2021          1.221413                0.14       36488250        7297650   \n",
      "22  2022          1.436684                8.11       37395000        7479000   \n",
      "23  2023          1.443224                0.23       37650000        7530000   \n",
      "24  2024          2.587158               39.76       39592500        7918500   \n",
      "\n",
      "    Imports Percentage (%)  Exports Percentage (%) Growth Rate (Gold Exports)  \\\n",
      "1                    0.910                  0.0022                     0.0375   \n",
      "2                    0.920                  0.0026                     0.0455   \n",
      "3                    0.920                  0.0025                     0.0435   \n",
      "4                    0.920                  0.0025                     0.1667   \n",
      "5                    0.930                  0.0025                     0.1429   \n",
      "6                    0.920                  0.0027                     0.0938   \n",
      "7                    0.920                  0.0024                        0.2   \n",
      "8                    0.920                  0.0025                     0.2857   \n",
      "9                    0.920                  0.0021                     0.1574   \n",
      "10                   0.920                  0.0022                       0.16   \n",
      "11                   0.925                  0.0021                     0.2759   \n",
      "12                   0.930                  0.0039                     0.4216   \n",
      "13                   0.940                  0.0043                     0.1773   \n",
      "14                   0.925                  0.0046                    -0.0468   \n",
      "15                   0.925                  0.0048                    -0.0539   \n",
      "16                   0.920                  0.0042                    -0.0592   \n",
      "17                   0.920                  0.0045                     0.0867   \n",
      "18                   0.920                  0.0047                     0.0364   \n",
      "19                   0.920                  0.0043                     0.0598   \n",
      "20                   0.920                  0.0045                     0.1206   \n",
      "21                   0.920                  0.0040                     0.3813   \n",
      "22                   0.920                  0.0045                     0.0249   \n",
      "23                   0.920                  0.0043                     0.0068   \n",
      "24                   0.920                  0.0042                     0.0515   \n",
      "\n",
      "         GDP  GOLD RESERVES (IN CRORE)  Exchange Rate(USD-INR)   \\\n",
      "1  -1.603986                     12973                44.948154   \n",
      "2  -0.963281                     12711                47.172949   \n",
      "3  -0.856497                     14868                48.575595   \n",
      "4  -1.603986                     16785                46.538938   \n",
      "5   0.638480                     18216                45.271779   \n",
      "6   0.264735                     19686                44.077814   \n",
      "7   0.745264                     25674                45.260794   \n",
      "8   1.385968                     29573                41.225881   \n",
      "9   1.065616                     40124                43.447697   \n",
      "10 -0.162401                     48793                48.356272   \n",
      "11  0.211343                     81188                45.724512   \n",
      "12  1.012224                    102572                46.676962   \n",
      "13 -0.055617                    138250                53.434264   \n",
      "14 -1.070065                    139737                58.638576   \n",
      "15 -1.230241                    129616                61.022620   \n",
      "16  0.211343                    119160                64.178069   \n",
      "17  0.905440                    133429                67.197565   \n",
      "18  2.133457                    128828                65.128888   \n",
      "19 -0.109009                    139742                68.448351   \n",
      "20  0.104559                    159585                70.427300   \n",
      "21 -1.497202                    230527                74.108330   \n",
      "22 -0.642929                    247723                73.944862   \n",
      "23  1.119008                    322213                78.627603   \n",
      "24 -0.002225                    371500                82.591876   \n",
      "\n",
      "    CPI Inflation Rate (%)  Repo Rate (%)  Unemployment Rate (%)  \\\n",
      "1                     4.01           9.00                   5.60   \n",
      "2                     3.78           8.75                   5.80   \n",
      "3                     4.30           5.75                   5.90   \n",
      "4                     3.81           5.00                   5.60   \n",
      "5                     3.77           5.25                   5.30   \n",
      "6                     4.25           5.75                   5.00   \n",
      "7                     5.80           7.25                   4.90   \n",
      "8                     6.37           7.75                   4.80   \n",
      "9                     8.35           9.00                   7.30   \n",
      "10                   10.88           4.00                   8.40   \n",
      "11                   11.99           5.25                   8.30   \n",
      "12                    8.91           8.50                   8.20   \n",
      "13                    9.48           8.00                   8.10   \n",
      "14                   10.02           7.25                   8.00   \n",
      "15                    6.67           8.00                   7.90   \n",
      "16                    4.91           7.25                   7.90   \n",
      "17                    4.95           6.50                   7.80   \n",
      "18                    3.33           6.00                   7.20   \n",
      "19                    3.94           6.50                   7.80   \n",
      "20                    3.73           5.40                   6.10   \n",
      "21                    6.62           4.00                   7.86   \n",
      "22                    5.13           4.00                   6.38   \n",
      "23                    6.70           6.25                   4.82   \n",
      "24                    5.65           6.50                   4.17   \n",
      "\n",
      "    gold_price_pct_change  GDP_growth  \n",
      "1                3.920642  -35.483871  \n",
      "2               -2.272727   30.000000  \n",
      "3               16.046512    3.846154  \n",
      "4               12.224449  -25.925926  \n",
      "5                4.464286  105.000000  \n",
      "6               19.658120   -8.536585  \n",
      "7               54.285714   12.000000  \n",
      "8               15.740741   14.285714  \n",
      "9               16.000000   -6.250000  \n",
      "10              27.586207  -25.555556  \n",
      "11              42.702703   10.447761  \n",
      "12              17.613636   20.270270  \n",
      "13              -4.669887  -22.471910  \n",
      "14              -5.383446  -27.536232  \n",
      "15              -5.937907   -6.000000  \n",
      "16               8.654886   57.446809  \n",
      "17               3.647353   17.567568  \n",
      "18               5.967810   26.436782  \n",
      "19              12.030027  -38.181818  \n",
      "20              38.134583    5.882353  \n",
      "21               0.141826  -41.666667  \n",
      "22               8.107553   38.095238  \n",
      "23               0.227834   56.896552  \n",
      "24              39.761318  -23.076923  \n"
     ]
    }
   ],
   "source": [
    "# Calculate Q1 (25th percentile) and Q3 (75th percentile)\n",
    "Q1 = data['Gold Price (10g)'].quantile(0.25)\n",
    "Q3 = data['GDP'].quantile(0.75)\n",
    "IQR = Q3 - Q1\n",
    "\n",
    "# Define the lower and upper bounds\n",
    "lower_bound = Q1 - 1.5 * IQR\n",
    "upper_bound = Q3 + 1.5 * IQR\n",
    "\n",
    "# Identify outliers\n",
    "outliers = (data['Gold Price (10g)'] < lower_bound) | (data['Gold Price (10g)'] > upper_bound)\n",
    "outliers = (data['GDP'] < lower_bound) | (data['GDP'] > upper_bound)\n",
    "\n",
    "# Remove outliers\n",
    "data = data[~outliers]\n",
    "\n",
    "print(data)"
   ]
  },
  {
   "cell_type": "code",
   "execution_count": 17,
   "id": "a5dca677",
   "metadata": {},
   "outputs": [],
   "source": [
    "# 3. Feature Engineering\n",
    "# Example: Calculate percentage change in gold prices (assuming 'Gold_Price' column exists)\n",
    "df['Gold_Price_pct_change'] = df['Gold Price (10g)'].pct_change() * 100"
   ]
  },
  {
   "cell_type": "code",
   "execution_count": 18,
   "id": "55162e8b",
   "metadata": {},
   "outputs": [],
   "source": [
    "# Example: Calculate GDP growth rate (assuming 'GDP' column exists)\n",
    "df['GDP_growth'] = df['GDP'].pct_change() * 100"
   ]
  },
  {
   "cell_type": "code",
   "execution_count": 19,
   "id": "04dc6aaa",
   "metadata": {},
   "outputs": [],
   "source": [
    "# 4. Outlier Detection & Handling (using Z-score)\n",
    "from scipy.stats import zscore\n"
   ]
  },
  {
   "cell_type": "code",
   "execution_count": 20,
   "id": "16a8a15e",
   "metadata": {},
   "outputs": [],
   "source": [
    "# 4. Outlier Detection & Handling (using Z-score)\n",
    "# Calculate Z-scores for each numerical column individually\n",
    "numerical_columns = df.select_dtypes(include=[np.number]).columns\n"
   ]
  },
  {
   "cell_type": "code",
   "execution_count": 21,
   "id": "e169fb5c",
   "metadata": {},
   "outputs": [],
   "source": [
    "# Iterate over the numerical columns to calculate Z-scores\n",
    "for col in numerical_columns:\n",
    "    df[f'{col}_zscore'] = np.abs(zscore(df[col]))\n"
   ]
  },
  {
   "cell_type": "code",
   "execution_count": 22,
   "id": "6c644007",
   "metadata": {},
   "outputs": [],
   "source": [
    "# Remove rows with Z-scores greater than a threshold (e.g., 3)\n",
    "df = df[(df[[f'{col}_zscore' for col in numerical_columns]] < 3).all(axis=1)]"
   ]
  },
  {
   "cell_type": "code",
   "execution_count": 23,
   "id": "81e7b3ed",
   "metadata": {},
   "outputs": [],
   "source": [
    "# Drop the Z-score columns after handling outliers\n",
    "df.drop(columns=[f'{col}_zscore' for col in numerical_columns], inplace=True)"
   ]
  },
  {
   "cell_type": "code",
   "execution_count": 24,
   "id": "f4e4c878",
   "metadata": {},
   "outputs": [],
   "source": [
    "# 5. Data Normalization (using Min-Max Scaling)\n",
    "# Ensure the relevant columns exist\n",
    "scaled_columns = ['Gold Price (10g)', 'GDP', 'Gold_Price_pct_change', 'GDP_growth']  # Adjust as necessary"
   ]
  },
  {
   "cell_type": "code",
   "execution_count": 25,
   "id": "dc0ce75e",
   "metadata": {},
   "outputs": [],
   "source": [
    "# Check if columns exist\n",
    "missing_columns = [col for col in scaled_columns if col not in df.columns]\n",
    "if missing_columns:\n",
    "    raise ValueError(f\"The following columns are missing in the dataset: {missing_columns}\")"
   ]
  },
  {
   "cell_type": "code",
   "execution_count": 26,
   "id": "723561aa",
   "metadata": {},
   "outputs": [
    {
     "name": "stdout",
     "output_type": "stream",
     "text": [
      "Data shape before scaling: (0, 4)\n"
     ]
    }
   ],
   "source": [
    "# Check the shape of the data before scaling\n",
    "print(f\"Data shape before scaling: {df[scaled_columns].shape}\")\n"
   ]
  },
  {
   "cell_type": "code",
   "execution_count": 27,
   "id": "bef25928",
   "metadata": {},
   "outputs": [
    {
     "name": "stdout",
     "output_type": "stream",
     "text": [
      "Empty DataFrame\n",
      "Columns: [Year, Gold Price (10g), Rate of Change (%), Imports value, Exports Value, Imports Percentage (%), Exports Percentage (%), Growth Rate (Gold Exports), GDP, GOLD RESERVES (IN CRORE), Exchange Rate(USD-INR) , CPI Inflation Rate (%), Repo Rate (%), Unemployment Rate (%), Gold_Price_pct_change, GDP_growth]\n",
      "Index: []\n"
     ]
    }
   ],
   "source": [
    "# 6. Save cleaned data\n",
    "df.to_csv('cleaned_gold_gdp_data.csv', index=False)\n",
    "\n",
    "# Display the cleaned data\n",
    "print(df.head())"
   ]
  },
  {
   "cell_type": "code",
   "execution_count": null,
   "id": "1083fdaf",
   "metadata": {},
   "outputs": [],
   "source": []
  }
 ],
 "metadata": {
  "kernelspec": {
   "display_name": "Python 3 (ipykernel)",
   "language": "python",
   "name": "python3"
  },
  "language_info": {
   "codemirror_mode": {
    "name": "ipython",
    "version": 3
   },
   "file_extension": ".py",
   "mimetype": "text/x-python",
   "name": "python",
   "nbconvert_exporter": "python",
   "pygments_lexer": "ipython3",
   "version": "3.11.5"
  }
 },
 "nbformat": 4,
 "nbformat_minor": 5
}
