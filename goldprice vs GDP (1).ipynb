{
 "cells": [
  {
   "cell_type": "code",
   "execution_count": 1,
   "id": "0725b603",
   "metadata": {},
   "outputs": [],
   "source": [
    "import pandas as pd\n",
    "import numpy as np\n",
    "import seaborn as sns\n",
    "import matplotlib.pyplot as plt\n",
    "import sklearn"
   ]
  },
  {
   "cell_type": "code",
   "execution_count": 2,
   "id": "3612c804",
   "metadata": {},
   "outputs": [],
   "source": [
    "data=pd.read_excel(\"Gold.xlsx\")"
   ]
  },
  {
   "cell_type": "code",
   "execution_count": 3,
   "id": "ed83cd9b",
   "metadata": {},
   "outputs": [],
   "source": [
    "df=pd.DataFrame(data)"
   ]
  },
  {
   "cell_type": "code",
   "execution_count": 4,
   "id": "be8f663c",
   "metadata": {},
   "outputs": [
    {
     "data": {
      "text/html": [
       "<div>\n",
       "<style scoped>\n",
       "    .dataframe tbody tr th:only-of-type {\n",
       "        vertical-align: middle;\n",
       "    }\n",
       "\n",
       "    .dataframe tbody tr th {\n",
       "        vertical-align: top;\n",
       "    }\n",
       "\n",
       "    .dataframe thead th {\n",
       "        text-align: right;\n",
       "    }\n",
       "</style>\n",
       "<table border=\"1\" class=\"dataframe\">\n",
       "  <thead>\n",
       "    <tr style=\"text-align: right;\">\n",
       "      <th></th>\n",
       "      <th>Year</th>\n",
       "      <th>Gold Price (10g)</th>\n",
       "      <th>Rate of Change (%)</th>\n",
       "      <th>Imports value</th>\n",
       "      <th>Exports Value</th>\n",
       "      <th>Imports Percentage (%)</th>\n",
       "      <th>Exports Percentage (%)</th>\n",
       "      <th>Growth Rate (Gold Exports)</th>\n",
       "      <th>GDP</th>\n",
       "      <th>GOLD RESERVES (IN CRORE)</th>\n",
       "      <th>Exchange Rate(USD-INR)</th>\n",
       "      <th>CPI Inflation Rate (%)</th>\n",
       "      <th>Repo Rate (%)</th>\n",
       "      <th>Unemployment Rate (%)</th>\n",
       "    </tr>\n",
       "  </thead>\n",
       "  <tbody>\n",
       "    <tr>\n",
       "      <th>0</th>\n",
       "      <td>1999</td>\n",
       "      <td>4234.0</td>\n",
       "      <td>1.92</td>\n",
       "      <td>3180500</td>\n",
       "      <td>636100</td>\n",
       "      <td>0.90</td>\n",
       "      <td>0.0017</td>\n",
       "      <td>-</td>\n",
       "      <td>6.2</td>\n",
       "      <td>12559</td>\n",
       "      <td>43.060000</td>\n",
       "      <td>4.67</td>\n",
       "      <td>8.00</td>\n",
       "      <td>5.4</td>\n",
       "    </tr>\n",
       "    <tr>\n",
       "      <th>1</th>\n",
       "      <td>2000</td>\n",
       "      <td>4400.0</td>\n",
       "      <td>3.92</td>\n",
       "      <td>3300000</td>\n",
       "      <td>660000</td>\n",
       "      <td>0.91</td>\n",
       "      <td>0.0022</td>\n",
       "      <td>0.0375</td>\n",
       "      <td>4.0</td>\n",
       "      <td>12973</td>\n",
       "      <td>44.948154</td>\n",
       "      <td>4.01</td>\n",
       "      <td>9.00</td>\n",
       "      <td>5.6</td>\n",
       "    </tr>\n",
       "    <tr>\n",
       "      <th>2</th>\n",
       "      <td>2001</td>\n",
       "      <td>4300.0</td>\n",
       "      <td>-2.27</td>\n",
       "      <td>3450000</td>\n",
       "      <td>690000</td>\n",
       "      <td>0.92</td>\n",
       "      <td>0.0026</td>\n",
       "      <td>0.0455</td>\n",
       "      <td>5.2</td>\n",
       "      <td>12711</td>\n",
       "      <td>47.172949</td>\n",
       "      <td>3.78</td>\n",
       "      <td>8.75</td>\n",
       "      <td>5.8</td>\n",
       "    </tr>\n",
       "    <tr>\n",
       "      <th>3</th>\n",
       "      <td>2002</td>\n",
       "      <td>4990.0</td>\n",
       "      <td>16.05</td>\n",
       "      <td>3600000</td>\n",
       "      <td>720000</td>\n",
       "      <td>0.92</td>\n",
       "      <td>0.0025</td>\n",
       "      <td>0.0435</td>\n",
       "      <td>5.4</td>\n",
       "      <td>14868</td>\n",
       "      <td>48.575595</td>\n",
       "      <td>4.30</td>\n",
       "      <td>5.75</td>\n",
       "      <td>5.9</td>\n",
       "    </tr>\n",
       "    <tr>\n",
       "      <th>4</th>\n",
       "      <td>2003</td>\n",
       "      <td>5600.0</td>\n",
       "      <td>12.22</td>\n",
       "      <td>4200000</td>\n",
       "      <td>840000</td>\n",
       "      <td>0.92</td>\n",
       "      <td>0.0025</td>\n",
       "      <td>0.1667</td>\n",
       "      <td>4.0</td>\n",
       "      <td>16785</td>\n",
       "      <td>46.538938</td>\n",
       "      <td>3.81</td>\n",
       "      <td>5.00</td>\n",
       "      <td>5.6</td>\n",
       "    </tr>\n",
       "  </tbody>\n",
       "</table>\n",
       "</div>"
      ],
      "text/plain": [
       "   Year  Gold Price (10g)  Rate of Change (%)  Imports value  Exports Value  \\\n",
       "0  1999            4234.0                1.92        3180500         636100   \n",
       "1  2000            4400.0                3.92        3300000         660000   \n",
       "2  2001            4300.0               -2.27        3450000         690000   \n",
       "3  2002            4990.0               16.05        3600000         720000   \n",
       "4  2003            5600.0               12.22        4200000         840000   \n",
       "\n",
       "   Imports Percentage (%)  Exports Percentage (%) Growth Rate (Gold Exports)  \\\n",
       "0                    0.90                  0.0017                          -   \n",
       "1                    0.91                  0.0022                     0.0375   \n",
       "2                    0.92                  0.0026                     0.0455   \n",
       "3                    0.92                  0.0025                     0.0435   \n",
       "4                    0.92                  0.0025                     0.1667   \n",
       "\n",
       "   GDP  GOLD RESERVES (IN CRORE)  Exchange Rate(USD-INR)   \\\n",
       "0  6.2                     12559                43.060000   \n",
       "1  4.0                     12973                44.948154   \n",
       "2  5.2                     12711                47.172949   \n",
       "3  5.4                     14868                48.575595   \n",
       "4  4.0                     16785                46.538938   \n",
       "\n",
       "   CPI Inflation Rate (%)  Repo Rate (%)  Unemployment Rate (%)  \n",
       "0                    4.67           8.00                    5.4  \n",
       "1                    4.01           9.00                    5.6  \n",
       "2                    3.78           8.75                    5.8  \n",
       "3                    4.30           5.75                    5.9  \n",
       "4                    3.81           5.00                    5.6  "
      ]
     },
     "execution_count": 4,
     "metadata": {},
     "output_type": "execute_result"
    }
   ],
   "source": [
    "df.head()"
   ]
  },
  {
   "cell_type": "code",
   "execution_count": 5,
   "id": "0488a12c",
   "metadata": {},
   "outputs": [
    {
     "name": "stdout",
     "output_type": "stream",
     "text": [
      "<class 'pandas.core.frame.DataFrame'>\n",
      "RangeIndex: 25 entries, 0 to 24\n",
      "Data columns (total 14 columns):\n",
      " #   Column                      Non-Null Count  Dtype  \n",
      "---  ------                      --------------  -----  \n",
      " 0   Year                        25 non-null     int64  \n",
      " 1   Gold Price (10g)            25 non-null     float64\n",
      " 2   Rate of Change (%)          25 non-null     float64\n",
      " 3   Imports value               25 non-null     int64  \n",
      " 4   Exports Value               25 non-null     int64  \n",
      " 5   Imports Percentage (%)      25 non-null     float64\n",
      " 6   Exports Percentage (%)      25 non-null     float64\n",
      " 7   Growth Rate (Gold Exports)  25 non-null     object \n",
      " 8   GDP                         25 non-null     float64\n",
      " 9   GOLD RESERVES (IN CRORE)    25 non-null     int64  \n",
      " 10  Exchange Rate(USD-INR)      25 non-null     float64\n",
      " 11  CPI Inflation Rate (%)      25 non-null     float64\n",
      " 12  Repo Rate (%)               25 non-null     float64\n",
      " 13  Unemployment Rate (%)       25 non-null     float64\n",
      "dtypes: float64(9), int64(4), object(1)\n",
      "memory usage: 2.9+ KB\n"
     ]
    }
   ],
   "source": [
    "df.info()"
   ]
  },
  {
   "cell_type": "code",
   "execution_count": 6,
   "id": "c49b5b13",
   "metadata": {},
   "outputs": [],
   "source": [
    "# Drop rows with missing data in the relevant columns\n",
    "df = df[['Gold Price (10g)', 'GDP']].dropna()"
   ]
  },
  {
   "cell_type": "code",
   "execution_count": 7,
   "id": "f09e0651",
   "metadata": {},
   "outputs": [
    {
     "name": "stdout",
     "output_type": "stream",
     "text": [
      "Correlation between Gold Price and GDP:\n",
      "                   Gold Price (10g)       GDP\n",
      "Gold Price (10g)          1.000000  0.119595\n",
      "GDP                       0.119595  1.000000\n"
     ]
    }
   ],
   "source": [
    "# Calculate correlation\n",
    "correlation = df.corr()\n",
    "print(\"Correlation between Gold Price and GDP:\\n\", correlation)"
   ]
  },
  {
   "cell_type": "code",
   "execution_count": 8,
   "id": "7da5ca41",
   "metadata": {},
   "outputs": [
    {
     "data": {
      "image/png": "[encoded data removed]",
      "text/plain": [
       "<Figure size 640x480 with 1 Axes>"
      ]
     },
     "metadata": {},
     "output_type": "display_data"
    }
   ],
   "source": [
    "# Visualize the relationship\n",
    "sns.scatterplot(data=df, x='Gold Price (10g)', y='GDP')\n",
    "plt.title('Gold Price vs GDP')\n",
    "plt.show()"
   ]
  },
  {
   "cell_type": "code",
   "execution_count": 13,
   "id": "8e7e2f17",
   "metadata": {},
   "outputs": [],
   "source": [
    "# Define the correlation matrix\n",
    "data = {\n",
    "    \"Gold Price (10g)\": [ 1.000000, 0.119595],\n",
    "    \"GDP\": [  0.119595 ,1.000000],\n",
    "}\n",
    "\n",
    "# Convert to a DataFrame\n",
    "corr_matrix = pd.DataFrame(data, index=[\"Gold Price (10g)\", \"GDP\"])"
   ]
  },
  {
   "cell_type": "code",
   "execution_count": 14,
   "id": "3eec406b",
   "metadata": {},
   "outputs": [
    {
     "data": {
      "image/png": "[encoded data removed]",
      "text/plain": [
       "<Figure size 1200x800 with 2 Axes>"
      ]
     },
     "metadata": {},
     "output_type": "display_data"
    }
   ],
   "source": [
    "# Create the heatmap with a fixed color range\n",
    "plt.figure(figsize=(12, 8))\n",
    "sns.heatmap(corr_matrix, annot=True, cmap=\"RdPu\", fmt=\".5f\", cbar=True, vmin=-1, vmax=1,  linewidths=0.5 )\n",
    "\n",
    "# Add title and labels\n",
    "plt.title(\"Correlation Heatmap: Gold Price and GDP\")\n",
    "plt.show()"
   ]
  },
  {
   "cell_type": "code",
   "execution_count": null,
   "id": "9ea3e59d",
   "metadata": {},
   "outputs": [],
   "source": []
  },
  {
   "cell_type": "code",
   "execution_count": null,
   "id": "7933b02a",
   "metadata": {},
   "outputs": [],
   "source": []
  }
 ],
 "metadata": {
  "kernelspec": {
   "display_name": "Python 3 (ipykernel)",
   "language": "python",
   "name": "python3"
  },
  "language_info": {
   "codemirror_mode": {
    "name": "ipython",
    "version": 3
   },
   "file_extension": ".py",
   "mimetype": "text/x-python",
   "name": "python",
   "nbconvert_exporter": "python",
   "pygments_lexer": "ipython3",
   "version": "3.11.5"
  }
 },
 "nbformat": 4,
 "nbformat_minor": 5
}
